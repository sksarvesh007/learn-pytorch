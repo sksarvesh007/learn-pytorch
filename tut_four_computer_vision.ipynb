{
 "cells": [
  {
   "cell_type": "markdown",
   "metadata": {},
   "source": [
    "## PYTORCH COMPUTER VISION  "
   ]
  },
  {
   "cell_type": "code",
   "execution_count": null,
   "metadata": {},
   "outputs": [],
   "source": []
  },
  {
   "cell_type": "markdown",
   "metadata": {},
   "source": [
    " Computer vision libraries in pytorch \n",
    "1. `torchvision` - base domain library for cmoputer vision in pytorch \n",
    "2. `torchvision.datasets` - to get dataset and data loading functions for computer vision here \n",
    "3. `torchvision.models` - get pretrained computer vision model to leverage for our own problems \n",
    "4. `torhcvision.transform` - functions for manipulating the vision data to be suitable for use for ML model "
   ]
  },
  {
   "cell_type": "code",
   "execution_count": 1,
   "metadata": {},
   "outputs": [],
   "source": [
    "import pandas as pd \n",
    "import numpy as np \n",
    "import torch \n",
    "from torch import nn \n"
   ]
  },
  {
   "cell_type": "code",
   "execution_count": 2,
   "metadata": {},
   "outputs": [],
   "source": [
    "import torchvision\n",
    "from torchvision import datasets \n",
    "from torchvision.transforms import ToTensor\n",
    "from torchvision import transforms"
   ]
  },
  {
   "cell_type": "code",
   "execution_count": 3,
   "metadata": {},
   "outputs": [
    {
     "data": {
      "text/plain": [
       "'0.16.1+cpu'"
      ]
     },
     "execution_count": 3,
     "metadata": {},
     "output_type": "execute_result"
    }
   ],
   "source": [
    "torchvision.__version__"
   ]
  },
  {
   "cell_type": "code",
   "execution_count": 4,
   "metadata": {},
   "outputs": [],
   "source": [
    "train_data = datasets.FashionMNIST(\n",
    "    root = \"fashion\" , \n",
    "    train=True , download=True , \n",
    "    transform=ToTensor(), \n",
    "    target_transform=None\n",
    ")\n",
    "test_data = datasets.FashionMNIST(\n",
    "    root = \"fashion\" , \n",
    "    train=False , download=True , \n",
    "    transform=ToTensor(), \n",
    "    target_transform=None\n",
    ")"
   ]
  },
  {
   "cell_type": "code",
   "execution_count": 5,
   "metadata": {},
   "outputs": [
    {
     "data": {
      "text/plain": [
       "(60000, 10000)"
      ]
     },
     "execution_count": 5,
     "metadata": {},
     "output_type": "execute_result"
    }
   ],
   "source": [
    "len(train_data) , len(test_data)"
   ]
  },
  {
   "cell_type": "code",
   "execution_count": 6,
   "metadata": {},
   "outputs": [
    {
     "data": {
      "text/plain": [
       "(tensor([[[0.0000, 0.0000, 0.0000, 0.0000, 0.0000, 0.0000, 0.0000, 0.0000,\n",
       "           0.0000, 0.0000, 0.0000, 0.0000, 0.0000, 0.0000, 0.0000, 0.0000,\n",
       "           0.0000, 0.0000, 0.0000, 0.0000, 0.0000, 0.0000, 0.0000, 0.0000,\n",
       "           0.0000, 0.0000, 0.0000, 0.0000],\n",
       "          [0.0000, 0.0000, 0.0000, 0.0000, 0.0000, 0.0000, 0.0000, 0.0000,\n",
       "           0.0000, 0.0000, 0.0000, 0.0000, 0.0000, 0.0000, 0.0000, 0.0000,\n",
       "           0.0000, 0.0000, 0.0000, 0.0000, 0.0000, 0.0000, 0.0000, 0.0000,\n",
       "           0.0000, 0.0000, 0.0000, 0.0000],\n",
       "          [0.0000, 0.0000, 0.0000, 0.0000, 0.0000, 0.0000, 0.0000, 0.0000,\n",
       "           0.0000, 0.0000, 0.0000, 0.0000, 0.0000, 0.0000, 0.0000, 0.0000,\n",
       "           0.0000, 0.0000, 0.0000, 0.0000, 0.0000, 0.0000, 0.0000, 0.0000,\n",
       "           0.0000, 0.0000, 0.0000, 0.0000],\n",
       "          [0.0000, 0.0000, 0.0000, 0.0000, 0.0000, 0.0000, 0.0000, 0.0000,\n",
       "           0.0000, 0.0000, 0.0000, 0.0000, 0.0039, 0.0000, 0.0000, 0.0510,\n",
       "           0.2863, 0.0000, 0.0000, 0.0039, 0.0157, 0.0000, 0.0000, 0.0000,\n",
       "           0.0000, 0.0039, 0.0039, 0.0000],\n",
       "          [0.0000, 0.0000, 0.0000, 0.0000, 0.0000, 0.0000, 0.0000, 0.0000,\n",
       "           0.0000, 0.0000, 0.0000, 0.0000, 0.0118, 0.0000, 0.1412, 0.5333,\n",
       "           0.4980, 0.2431, 0.2118, 0.0000, 0.0000, 0.0000, 0.0039, 0.0118,\n",
       "           0.0157, 0.0000, 0.0000, 0.0118],\n",
       "          [0.0000, 0.0000, 0.0000, 0.0000, 0.0000, 0.0000, 0.0000, 0.0000,\n",
       "           0.0000, 0.0000, 0.0000, 0.0000, 0.0235, 0.0000, 0.4000, 0.8000,\n",
       "           0.6902, 0.5255, 0.5647, 0.4824, 0.0902, 0.0000, 0.0000, 0.0000,\n",
       "           0.0000, 0.0471, 0.0392, 0.0000],\n",
       "          [0.0000, 0.0000, 0.0000, 0.0000, 0.0000, 0.0000, 0.0000, 0.0000,\n",
       "           0.0000, 0.0000, 0.0000, 0.0000, 0.0000, 0.0000, 0.6078, 0.9255,\n",
       "           0.8118, 0.6980, 0.4196, 0.6118, 0.6314, 0.4275, 0.2510, 0.0902,\n",
       "           0.3020, 0.5098, 0.2824, 0.0588],\n",
       "          [0.0000, 0.0000, 0.0000, 0.0000, 0.0000, 0.0000, 0.0000, 0.0000,\n",
       "           0.0000, 0.0000, 0.0000, 0.0039, 0.0000, 0.2706, 0.8118, 0.8745,\n",
       "           0.8549, 0.8471, 0.8471, 0.6392, 0.4980, 0.4745, 0.4784, 0.5725,\n",
       "           0.5529, 0.3451, 0.6745, 0.2588],\n",
       "          [0.0000, 0.0000, 0.0000, 0.0000, 0.0000, 0.0000, 0.0000, 0.0000,\n",
       "           0.0000, 0.0039, 0.0039, 0.0039, 0.0000, 0.7843, 0.9098, 0.9098,\n",
       "           0.9137, 0.8980, 0.8745, 0.8745, 0.8431, 0.8353, 0.6431, 0.4980,\n",
       "           0.4824, 0.7686, 0.8980, 0.0000],\n",
       "          [0.0000, 0.0000, 0.0000, 0.0000, 0.0000, 0.0000, 0.0000, 0.0000,\n",
       "           0.0000, 0.0000, 0.0000, 0.0000, 0.0000, 0.7176, 0.8824, 0.8471,\n",
       "           0.8745, 0.8941, 0.9216, 0.8902, 0.8784, 0.8706, 0.8784, 0.8667,\n",
       "           0.8745, 0.9608, 0.6784, 0.0000],\n",
       "          [0.0000, 0.0000, 0.0000, 0.0000, 0.0000, 0.0000, 0.0000, 0.0000,\n",
       "           0.0000, 0.0000, 0.0000, 0.0000, 0.0000, 0.7569, 0.8941, 0.8549,\n",
       "           0.8353, 0.7765, 0.7059, 0.8314, 0.8235, 0.8275, 0.8353, 0.8745,\n",
       "           0.8627, 0.9529, 0.7922, 0.0000],\n",
       "          [0.0000, 0.0000, 0.0000, 0.0000, 0.0000, 0.0000, 0.0000, 0.0000,\n",
       "           0.0000, 0.0039, 0.0118, 0.0000, 0.0471, 0.8588, 0.8627, 0.8314,\n",
       "           0.8549, 0.7529, 0.6627, 0.8902, 0.8157, 0.8549, 0.8784, 0.8314,\n",
       "           0.8863, 0.7725, 0.8196, 0.2039],\n",
       "          [0.0000, 0.0000, 0.0000, 0.0000, 0.0000, 0.0000, 0.0000, 0.0000,\n",
       "           0.0000, 0.0000, 0.0235, 0.0000, 0.3882, 0.9569, 0.8706, 0.8627,\n",
       "           0.8549, 0.7961, 0.7765, 0.8667, 0.8431, 0.8353, 0.8706, 0.8627,\n",
       "           0.9608, 0.4667, 0.6549, 0.2196],\n",
       "          [0.0000, 0.0000, 0.0000, 0.0000, 0.0000, 0.0000, 0.0000, 0.0000,\n",
       "           0.0000, 0.0157, 0.0000, 0.0000, 0.2157, 0.9255, 0.8941, 0.9020,\n",
       "           0.8941, 0.9412, 0.9098, 0.8353, 0.8549, 0.8745, 0.9176, 0.8510,\n",
       "           0.8510, 0.8196, 0.3608, 0.0000],\n",
       "          [0.0000, 0.0000, 0.0039, 0.0157, 0.0235, 0.0275, 0.0078, 0.0000,\n",
       "           0.0000, 0.0000, 0.0000, 0.0000, 0.9294, 0.8863, 0.8510, 0.8745,\n",
       "           0.8706, 0.8588, 0.8706, 0.8667, 0.8471, 0.8745, 0.8980, 0.8431,\n",
       "           0.8549, 1.0000, 0.3020, 0.0000],\n",
       "          [0.0000, 0.0118, 0.0000, 0.0000, 0.0000, 0.0000, 0.0000, 0.0000,\n",
       "           0.0000, 0.2431, 0.5686, 0.8000, 0.8941, 0.8118, 0.8353, 0.8667,\n",
       "           0.8549, 0.8157, 0.8275, 0.8549, 0.8784, 0.8745, 0.8588, 0.8431,\n",
       "           0.8784, 0.9569, 0.6235, 0.0000],\n",
       "          [0.0000, 0.0000, 0.0000, 0.0000, 0.0706, 0.1725, 0.3216, 0.4196,\n",
       "           0.7412, 0.8941, 0.8627, 0.8706, 0.8510, 0.8863, 0.7843, 0.8039,\n",
       "           0.8275, 0.9020, 0.8784, 0.9176, 0.6902, 0.7373, 0.9804, 0.9725,\n",
       "           0.9137, 0.9333, 0.8431, 0.0000],\n",
       "          [0.0000, 0.2235, 0.7333, 0.8157, 0.8784, 0.8667, 0.8784, 0.8157,\n",
       "           0.8000, 0.8392, 0.8157, 0.8196, 0.7843, 0.6235, 0.9608, 0.7569,\n",
       "           0.8078, 0.8745, 1.0000, 1.0000, 0.8667, 0.9176, 0.8667, 0.8275,\n",
       "           0.8627, 0.9098, 0.9647, 0.0000],\n",
       "          [0.0118, 0.7922, 0.8941, 0.8784, 0.8667, 0.8275, 0.8275, 0.8392,\n",
       "           0.8039, 0.8039, 0.8039, 0.8627, 0.9412, 0.3137, 0.5882, 1.0000,\n",
       "           0.8980, 0.8667, 0.7373, 0.6039, 0.7490, 0.8235, 0.8000, 0.8196,\n",
       "           0.8706, 0.8941, 0.8824, 0.0000],\n",
       "          [0.3843, 0.9137, 0.7765, 0.8235, 0.8706, 0.8980, 0.8980, 0.9176,\n",
       "           0.9765, 0.8627, 0.7608, 0.8431, 0.8510, 0.9451, 0.2549, 0.2863,\n",
       "           0.4157, 0.4588, 0.6588, 0.8588, 0.8667, 0.8431, 0.8510, 0.8745,\n",
       "           0.8745, 0.8784, 0.8980, 0.1137],\n",
       "          [0.2941, 0.8000, 0.8314, 0.8000, 0.7569, 0.8039, 0.8275, 0.8824,\n",
       "           0.8471, 0.7255, 0.7725, 0.8078, 0.7765, 0.8353, 0.9412, 0.7647,\n",
       "           0.8902, 0.9608, 0.9373, 0.8745, 0.8549, 0.8314, 0.8196, 0.8706,\n",
       "           0.8627, 0.8667, 0.9020, 0.2627],\n",
       "          [0.1882, 0.7961, 0.7176, 0.7608, 0.8353, 0.7725, 0.7255, 0.7451,\n",
       "           0.7608, 0.7529, 0.7922, 0.8392, 0.8588, 0.8667, 0.8627, 0.9255,\n",
       "           0.8824, 0.8471, 0.7804, 0.8078, 0.7294, 0.7098, 0.6941, 0.6745,\n",
       "           0.7098, 0.8039, 0.8078, 0.4510],\n",
       "          [0.0000, 0.4784, 0.8588, 0.7569, 0.7020, 0.6706, 0.7176, 0.7686,\n",
       "           0.8000, 0.8235, 0.8353, 0.8118, 0.8275, 0.8235, 0.7843, 0.7686,\n",
       "           0.7608, 0.7490, 0.7647, 0.7490, 0.7765, 0.7529, 0.6902, 0.6118,\n",
       "           0.6549, 0.6941, 0.8235, 0.3608],\n",
       "          [0.0000, 0.0000, 0.2902, 0.7412, 0.8314, 0.7490, 0.6863, 0.6745,\n",
       "           0.6863, 0.7098, 0.7255, 0.7373, 0.7412, 0.7373, 0.7569, 0.7765,\n",
       "           0.8000, 0.8196, 0.8235, 0.8235, 0.8275, 0.7373, 0.7373, 0.7608,\n",
       "           0.7529, 0.8471, 0.6667, 0.0000],\n",
       "          [0.0078, 0.0000, 0.0000, 0.0000, 0.2588, 0.7843, 0.8706, 0.9294,\n",
       "           0.9373, 0.9490, 0.9647, 0.9529, 0.9569, 0.8667, 0.8627, 0.7569,\n",
       "           0.7490, 0.7020, 0.7137, 0.7137, 0.7098, 0.6902, 0.6510, 0.6588,\n",
       "           0.3882, 0.2275, 0.0000, 0.0000],\n",
       "          [0.0000, 0.0000, 0.0000, 0.0000, 0.0000, 0.0000, 0.0000, 0.1569,\n",
       "           0.2392, 0.1725, 0.2824, 0.1608, 0.1373, 0.0000, 0.0000, 0.0000,\n",
       "           0.0000, 0.0000, 0.0000, 0.0000, 0.0000, 0.0000, 0.0000, 0.0000,\n",
       "           0.0000, 0.0000, 0.0000, 0.0000],\n",
       "          [0.0000, 0.0000, 0.0000, 0.0000, 0.0000, 0.0000, 0.0000, 0.0000,\n",
       "           0.0000, 0.0000, 0.0000, 0.0000, 0.0000, 0.0000, 0.0000, 0.0000,\n",
       "           0.0000, 0.0000, 0.0000, 0.0000, 0.0000, 0.0000, 0.0000, 0.0000,\n",
       "           0.0000, 0.0000, 0.0000, 0.0000],\n",
       "          [0.0000, 0.0000, 0.0000, 0.0000, 0.0000, 0.0000, 0.0000, 0.0000,\n",
       "           0.0000, 0.0000, 0.0000, 0.0000, 0.0000, 0.0000, 0.0000, 0.0000,\n",
       "           0.0000, 0.0000, 0.0000, 0.0000, 0.0000, 0.0000, 0.0000, 0.0000,\n",
       "           0.0000, 0.0000, 0.0000, 0.0000]]]),\n",
       " 9)"
      ]
     },
     "execution_count": 6,
     "metadata": {},
     "output_type": "execute_result"
    }
   ],
   "source": [
    "image , label = train_data[0]\n",
    "image , label"
   ]
  },
  {
   "cell_type": "code",
   "execution_count": 7,
   "metadata": {},
   "outputs": [
    {
     "data": {
      "text/plain": [
       "['T-shirt/top',\n",
       " 'Trouser',\n",
       " 'Pullover',\n",
       " 'Dress',\n",
       " 'Coat',\n",
       " 'Sandal',\n",
       " 'Shirt',\n",
       " 'Sneaker',\n",
       " 'Bag',\n",
       " 'Ankle boot']"
      ]
     },
     "execution_count": 7,
     "metadata": {},
     "output_type": "execute_result"
    }
   ],
   "source": [
    "class_names = train_data.classes\n",
    "class_names"
   ]
  },
  {
   "cell_type": "code",
   "execution_count": 8,
   "metadata": {},
   "outputs": [
    {
     "data": {
      "text/plain": [
       "torch.Size([1, 28, 28])"
      ]
     },
     "execution_count": 8,
     "metadata": {},
     "output_type": "execute_result"
    }
   ],
   "source": [
    "image.shape"
   ]
  },
  {
   "cell_type": "markdown",
   "metadata": {},
   "source": [
    "### visualising our data \n"
   ]
  },
  {
   "cell_type": "code",
   "execution_count": 9,
   "metadata": {},
   "outputs": [
    {
     "data": {
      "text/plain": [
       "Text(0.5, 1.0, 'Ankle boot')"
      ]
     },
     "execution_count": 9,
     "metadata": {},
     "output_type": "execute_result"
    },
    {
     "data": {
      "image/png": "[encoded data removed]",
      "text/plain": [
       "<Figure size 640x480 with 1 Axes>"
      ]
     },
     "metadata": {},
     "output_type": "display_data"
    }
   ],
   "source": [
    "import matplotlib.pyplot as plt \n",
    "plt.imshow(image.squeeze() , cmap=\"gray\")\n",
    "plt.title(class_names[label])"
   ]
  },
  {
   "cell_type": "code",
   "execution_count": 10,
   "metadata": {},
   "outputs": [
    {
     "data": {
      "image/png": "[encoded data removed]",
      "text/plain": [
       "<Figure size 640x480 with 1 Axes>"
      ]
     },
     "metadata": {},
     "output_type": "display_data"
    }
   ],
   "source": [
    "for i in range(10):\n",
    "    plt.imshow(train_data[i][0].squeeze() , cmap=\"gray\")\n",
    "    plt.title(class_names[train_data[i][1]])\n",
    "    i=i+1"
   ]
  },
  {
   "cell_type": "code",
   "execution_count": 11,
   "metadata": {},
   "outputs": [
    {
     "data": {
      "image/png": "[encoded data removed]",
      "text/plain": [
       "<Figure size 1200x1200 with 16 Axes>"
      ]
     },
     "metadata": {},
     "output_type": "display_data"
    }
   ],
   "source": [
    "torch.manual_seed(42)\n",
    "rows = 4 \n",
    "cols = 4 \n",
    "fig = plt.figure(figsize=(12 ,12))\n",
    "for i in range(1 , rows*cols+1):\n",
    "    random_indx = torch.randint(0 , len(train_data) , size=[1] ).item()\n",
    "    fig.add_subplot(rows , cols , i)\n",
    "    img , labell = train_data[i]\n",
    "    plt.imshow(img.squeeze() , cmap=\"gray\")\n",
    "    plt.axis(False)\n",
    "    plt.title(class_names[labell])"
   ]
  },
  {
   "cell_type": "code",
   "execution_count": 12,
   "metadata": {},
   "outputs": [
    {
     "data": {
      "text/plain": [
       "(Dataset FashionMNIST\n",
       "     Number of datapoints: 60000\n",
       "     Root location: fashion\n",
       "     Split: Train\n",
       "     StandardTransform\n",
       " Transform: ToTensor(),\n",
       " Dataset FashionMNIST\n",
       "     Number of datapoints: 10000\n",
       "     Root location: fashion\n",
       "     Split: Test\n",
       "     StandardTransform\n",
       " Transform: ToTensor())"
      ]
     },
     "execution_count": 12,
     "metadata": {},
     "output_type": "execute_result"
    }
   ],
   "source": [
    "train_data , test_data"
   ]
  },
  {
   "cell_type": "code",
   "execution_count": 13,
   "metadata": {},
   "outputs": [
    {
     "data": {
      "text/plain": [
       "(<torch.utils.data.dataloader.DataLoader at 0x17018182790>,\n",
       " <torch.utils.data.dataloader.DataLoader at 0x17017d3c8d0>)"
      ]
     },
     "execution_count": 13,
     "metadata": {},
     "output_type": "execute_result"
    }
   ],
   "source": [
    "from torch.utils.data import DataLoader\n",
    "\n",
    "BATCH_SIZE = 32 \n",
    "train_dataloader = DataLoader(dataset=train_data , batch_size=BATCH_SIZE , shuffle=True)\n",
    "test_dataloader = DataLoader(dataset=test_data , batch_size=BATCH_SIZE , shuffle=False)\n",
    "train_dataloader , test_dataloader"
   ]
  },
  {
   "cell_type": "code",
   "execution_count": 14,
   "metadata": {},
   "outputs": [
    {
     "data": {
      "text/plain": [
       "1875"
      ]
     },
     "execution_count": 14,
     "metadata": {},
     "output_type": "execute_result"
    }
   ],
   "source": [
    "len(train_dataloader)"
   ]
  },
  {
   "cell_type": "code",
   "execution_count": 15,
   "metadata": {},
   "outputs": [
    {
     "data": {
      "text/plain": [
       "(torch.Size([32, 1, 28, 28]), torch.Size([32]))"
      ]
     },
     "execution_count": 15,
     "metadata": {},
     "output_type": "execute_result"
    }
   ],
   "source": [
    "train_features_batch , train_labels_batch = next(iter(train_dataloader))\n",
    "train_features_batch.shape , train_labels_batch.shape"
   ]
  },
  {
   "cell_type": "code",
   "execution_count": 16,
   "metadata": {},
   "outputs": [
    {
     "data": {
      "text/plain": [
       "32"
      ]
     },
     "execution_count": 16,
     "metadata": {},
     "output_type": "execute_result"
    }
   ],
   "source": [
    "len(train_features_batch)"
   ]
  },
  {
   "cell_type": "code",
   "execution_count": 17,
   "metadata": {},
   "outputs": [
    {
     "data": {
      "text/plain": [
       "Text(0.5, 1.0, 'Bag')"
      ]
     },
     "execution_count": 17,
     "metadata": {},
     "output_type": "execute_result"
    },
    {
     "data": {
      "image/png": "[encoded data removed]",
      "text/plain": [
       "<Figure size 640x480 with 1 Axes>"
      ]
     },
     "metadata": {},
     "output_type": "display_data"
    }
   ],
   "source": [
    "# torch.manual_seed(42)\n",
    "random_index = torch.randint(0 , len(train_features_batch) , size=[1]).item()\n",
    "imagee , labbel = train_features_batch[random_index] , train_labels_batch[random_index]\n",
    "plt.imshow(imagee.squeeze() , cmap=\"gray\")\n",
    "plt.title(class_names[labbel])"
   ]
  },
  {
   "cell_type": "code",
   "execution_count": 18,
   "metadata": {},
   "outputs": [
    {
     "data": {
      "text/plain": [
       "torch.Size([1, 28, 28])"
      ]
     },
     "execution_count": 18,
     "metadata": {},
     "output_type": "execute_result"
    }
   ],
   "source": [
    "#making a flatten layer \n",
    "flatten_layer = nn.Flatten()\n",
    "\n",
    "x=train_features_batch[0]\n",
    "x.shape"
   ]
  },
  {
   "cell_type": "code",
   "execution_count": 70,
   "metadata": {},
   "outputs": [],
   "source": [
    "from torch import nn \n",
    "class fashinmnistmodel(nn.Module):\n",
    "    def __init__(self , input_shape:int , output_shape:int , hidden_layer :int):\n",
    "        super().__init__()\n",
    "        self.layer_stack = nn.Sequential(\n",
    "            nn.Flatten() ,\n",
    "            nn.Linear(in_features=input_shape , out_features=64) ,\n",
    "            nn.ReLU(),\n",
    "            nn.Linear(in_features=64 , out_features=32) ,\n",
    "            nn.ReLU(),\n",
    "            nn.Linear(in_features=32 , out_features=output_shape)\n",
    "        )\n",
    "    def forward(self , x):\n",
    "        return self.layer_stack(x)"
   ]
  },
  {
   "cell_type": "code",
   "execution_count": 71,
   "metadata": {},
   "outputs": [],
   "source": [
    "torch.manual_seed(42)\n",
    "\n",
    "model_0 = fashinmnistmodel(\n",
    "    input_shape=784, output_shape=len(class_names) , hidden_layer=10\n",
    ")\n",
    "\n",
    "loss_fn = nn.CrossEntropyLoss()\n",
    "optim = torch.optim.Adam(params=model_0.parameters() , lr=0.01)\n"
   ]
  },
  {
   "cell_type": "code",
   "execution_count": 72,
   "metadata": {},
   "outputs": [],
   "source": [
    "from timeit import default_timer as timer\n",
    "from helper_function import accuracy_fn\n",
    "def print_train_time(start:float , end:float ):\n",
    "    total_time = end-start\n",
    "    print(f\"total time : {total_time}\")\n",
    "    return total_time"
   ]
  },
  {
   "cell_type": "code",
   "execution_count": 73,
   "metadata": {},
   "outputs": [
    {
     "name": "stdout",
     "output_type": "stream",
     "text": [
      "total time : 1.6600002709310502e-05\n"
     ]
    },
    {
     "data": {
      "text/plain": [
       "1.6600002709310502e-05"
      ]
     },
     "execution_count": 73,
     "metadata": {},
     "output_type": "execute_result"
    }
   ],
   "source": [
    "start_time = timer()\n",
    "end_time = timer()\n",
    "print_train_time(start=start_time ,end= end_time)"
   ]
  },
  {
   "cell_type": "markdown",
   "metadata": {},
   "source": [
    "1. loop through epochs\n",
    "2. loop through batches , perform training_steps , calculate train loss per batch  \n",
    "3. loop through testing batches and then perform testing steps , and find out testing loss per batch\n",
    "4. print out whats happening \n"
   ]
  },
  {
   "cell_type": "code",
   "execution_count": 74,
   "metadata": {},
   "outputs": [],
   "source": [
    "def accuracy_fn(y_true, y_pred):\n",
    "    \"\"\"Calculates accuracy between truth labels and predictions.\n",
    "    \n",
    "    Args:\n",
    "    y_true (torch.Tensor): True labels.\n",
    "    y_pred (torch.Tensor): Predictions.\n",
    "    \n",
    "    Returns:\n",
    "    [torch.float]: Accuracy value between y_true and y_pred, e.g. 78.45\n",
    "    \"\"\"\n",
    "    correct = torch.eq(y_true, y_pred).sum().item()\n",
    "    acc = (correct / len(y_pred)) * 100\n",
    "    return acc"
   ]
  },
  {
   "cell_type": "code",
   "execution_count": 75,
   "metadata": {},
   "outputs": [
    {
     "data": {
      "application/vnd.jupyter.widget-view+json": {
       "model_id": "7b8e25d7feda4e86b81f921e141763d7",
       "version_major": 2,
       "version_minor": 0
      },
      "text/plain": [
       "  0%|          | 0/10 [00:00<?, ?it/s]"
      ]
     },
     "metadata": {},
     "output_type": "display_data"
    },
    {
     "name": "stdout",
     "output_type": "stream",
     "text": [
      "EPOCH NUMBER : 0 | BATCH NUMBER : 0 | TRAIN LOSS : 2.3017232418060303\n",
      "EPOCH NUMBER : 0 | BATCH NUMBER : 400 | TRAIN LOSS : 0.46616196632385254\n",
      "EPOCH NUMBER : 0 | BATCH NUMBER : 800 | TRAIN LOSS : 0.6182660460472107\n",
      "EPOCH NUMBER : 0 | BATCH NUMBER : 1200 | TRAIN LOSS : 0.33754462003707886\n",
      "EPOCH NUMBER : 0 | BATCH NUMBER : 1600 | TRAIN LOSS : 0.2530224919319153\n",
      "EPOCH : 0 | AVG TRAIN LOSS : 0.5302619338035583 | AVG TEST LOSS : 0.45674118399620056 | TEST ACCURACY : 83.67611821086263 \n",
      "EPOCH NUMBER : 1 | BATCH NUMBER : 0 | TRAIN LOSS : 0.37121185660362244\n",
      "EPOCH NUMBER : 1 | BATCH NUMBER : 400 | TRAIN LOSS : 0.6981926560401917\n",
      "EPOCH NUMBER : 1 | BATCH NUMBER : 800 | TRAIN LOSS : 0.4033987820148468\n",
      "EPOCH NUMBER : 1 | BATCH NUMBER : 1200 | TRAIN LOSS : 0.3799554407596588\n",
      "EPOCH NUMBER : 1 | BATCH NUMBER : 1600 | TRAIN LOSS : 0.22315065562725067\n",
      "EPOCH : 1 | AVG TRAIN LOSS : 0.4369736611843109 | AVG TEST LOSS : 0.45318979024887085 | TEST ACCURACY : 84.21525559105432 \n",
      "EPOCH NUMBER : 2 | BATCH NUMBER : 0 | TRAIN LOSS : 0.3783247768878937\n",
      "EPOCH NUMBER : 2 | BATCH NUMBER : 400 | TRAIN LOSS : 0.4906567931175232\n",
      "EPOCH NUMBER : 2 | BATCH NUMBER : 800 | TRAIN LOSS : 0.4087863266468048\n",
      "EPOCH NUMBER : 2 | BATCH NUMBER : 1200 | TRAIN LOSS : 0.34207427501678467\n",
      "EPOCH NUMBER : 2 | BATCH NUMBER : 1600 | TRAIN LOSS : 0.44390222430229187\n",
      "EPOCH : 2 | AVG TRAIN LOSS : 0.4108656048774719 | AVG TEST LOSS : 0.46944308280944824 | TEST ACCURACY : 82.94728434504792 \n",
      "EPOCH NUMBER : 3 | BATCH NUMBER : 0 | TRAIN LOSS : 0.5129721164703369\n",
      "EPOCH NUMBER : 3 | BATCH NUMBER : 400 | TRAIN LOSS : 0.5033870339393616\n",
      "EPOCH NUMBER : 3 | BATCH NUMBER : 800 | TRAIN LOSS : 0.267537921667099\n",
      "EPOCH NUMBER : 3 | BATCH NUMBER : 1200 | TRAIN LOSS : 0.19817599654197693\n",
      "EPOCH NUMBER : 3 | BATCH NUMBER : 1600 | TRAIN LOSS : 0.7907655835151672\n",
      "EPOCH : 3 | AVG TRAIN LOSS : 0.3943493068218231 | AVG TEST LOSS : 0.42791005969047546 | TEST ACCURACY : 85.22364217252397 \n",
      "EPOCH NUMBER : 4 | BATCH NUMBER : 0 | TRAIN LOSS : 0.23073501884937286\n",
      "EPOCH NUMBER : 4 | BATCH NUMBER : 400 | TRAIN LOSS : 0.27330657839775085\n",
      "EPOCH NUMBER : 4 | BATCH NUMBER : 800 | TRAIN LOSS : 0.3158072531223297\n",
      "EPOCH NUMBER : 4 | BATCH NUMBER : 1200 | TRAIN LOSS : 0.3314562439918518\n",
      "EPOCH NUMBER : 4 | BATCH NUMBER : 1600 | TRAIN LOSS : 0.4547271132469177\n",
      "EPOCH : 4 | AVG TRAIN LOSS : 0.38804808259010315 | AVG TEST LOSS : 0.42178773880004883 | TEST ACCURACY : 85.6729233226837 \n",
      "EPOCH NUMBER : 5 | BATCH NUMBER : 0 | TRAIN LOSS : 0.3695312738418579\n",
      "EPOCH NUMBER : 5 | BATCH NUMBER : 400 | TRAIN LOSS : 0.3308824896812439\n",
      "EPOCH NUMBER : 5 | BATCH NUMBER : 800 | TRAIN LOSS : 0.21142823994159698\n",
      "EPOCH NUMBER : 5 | BATCH NUMBER : 1200 | TRAIN LOSS : 0.37928253412246704\n",
      "EPOCH NUMBER : 5 | BATCH NUMBER : 1600 | TRAIN LOSS : 0.13236552476882935\n",
      "EPOCH : 5 | AVG TRAIN LOSS : 0.37629881501197815 | AVG TEST LOSS : 0.4284193217754364 | TEST ACCURACY : 85.45327476038338 \n",
      "EPOCH NUMBER : 6 | BATCH NUMBER : 0 | TRAIN LOSS : 0.23779115080833435\n",
      "EPOCH NUMBER : 6 | BATCH NUMBER : 400 | TRAIN LOSS : 0.15856222808361053\n",
      "EPOCH NUMBER : 6 | BATCH NUMBER : 800 | TRAIN LOSS : 0.35766369104385376\n",
      "EPOCH NUMBER : 6 | BATCH NUMBER : 1200 | TRAIN LOSS : 0.3861406147480011\n",
      "EPOCH NUMBER : 6 | BATCH NUMBER : 1600 | TRAIN LOSS : 0.3818168044090271\n",
      "EPOCH : 6 | AVG TRAIN LOSS : 0.3734804093837738 | AVG TEST LOSS : 0.4657537639141083 | TEST ACCURACY : 84.0155750798722 \n",
      "EPOCH NUMBER : 7 | BATCH NUMBER : 0 | TRAIN LOSS : 0.26064711809158325\n",
      "EPOCH NUMBER : 7 | BATCH NUMBER : 400 | TRAIN LOSS : 0.4915040135383606\n",
      "EPOCH NUMBER : 7 | BATCH NUMBER : 800 | TRAIN LOSS : 0.366581529378891\n",
      "EPOCH NUMBER : 7 | BATCH NUMBER : 1200 | TRAIN LOSS : 0.46591395139694214\n",
      "EPOCH NUMBER : 7 | BATCH NUMBER : 1600 | TRAIN LOSS : 0.30436962842941284\n",
      "EPOCH : 7 | AVG TRAIN LOSS : 0.36626264452934265 | AVG TEST LOSS : 0.44654813408851624 | TEST ACCURACY : 84.53474440894568 \n",
      "EPOCH NUMBER : 8 | BATCH NUMBER : 0 | TRAIN LOSS : 0.28329360485076904\n",
      "EPOCH NUMBER : 8 | BATCH NUMBER : 400 | TRAIN LOSS : 0.29619070887565613\n",
      "EPOCH NUMBER : 8 | BATCH NUMBER : 800 | TRAIN LOSS : 0.4049791395664215\n",
      "EPOCH NUMBER : 8 | BATCH NUMBER : 1200 | TRAIN LOSS : 0.5606355667114258\n",
      "EPOCH NUMBER : 8 | BATCH NUMBER : 1600 | TRAIN LOSS : 0.3550340533256531\n",
      "EPOCH : 8 | AVG TRAIN LOSS : 0.36356687545776367 | AVG TEST LOSS : 0.4492337703704834 | TEST ACCURACY : 85.71285942492013 \n",
      "EPOCH NUMBER : 9 | BATCH NUMBER : 0 | TRAIN LOSS : 0.46047699451446533\n",
      "EPOCH NUMBER : 9 | BATCH NUMBER : 400 | TRAIN LOSS : 0.13966169953346252\n",
      "EPOCH NUMBER : 9 | BATCH NUMBER : 800 | TRAIN LOSS : 0.4315783381462097\n",
      "EPOCH NUMBER : 9 | BATCH NUMBER : 1200 | TRAIN LOSS : 0.20396354794502258\n",
      "EPOCH NUMBER : 9 | BATCH NUMBER : 1600 | TRAIN LOSS : 0.7397522926330566\n",
      "EPOCH : 9 | AVG TRAIN LOSS : 0.3655761778354645 | AVG TEST LOSS : 0.463649719953537 | TEST ACCURACY : 84.58466453674122 \n",
      "total time : 191.7724276000008\n"
     ]
    },
    {
     "data": {
      "text/plain": [
       "191.7724276000008"
      ]
     },
     "execution_count": 75,
     "metadata": {},
     "output_type": "execute_result"
    }
   ],
   "source": [
    "# importing tqdm for the progress bar \n",
    "from tqdm.auto import tqdm \n",
    "torch.manual_seed(42)\n",
    "start_time=timer()\n",
    "\n",
    "epochs = 10\n",
    "\n",
    "for epoch in tqdm(range(epochs)):\n",
    "    train_loss = 0\n",
    "    #add a loop to iterate through all the training batches \n",
    "    for batch , (X , y) in enumerate(train_dataloader):\n",
    "        model_0.train()\n",
    "        y_pred = model_0(X)\n",
    "        loss=loss_fn(y_pred , y)\n",
    "        train_loss+=loss\n",
    "        optim.zero_grad()\n",
    "        loss.backward()\n",
    "        optim.step()\n",
    "        \n",
    "        if batch%400==0:\n",
    "            print(f\"EPOCH NUMBER : {epoch} | BATCH NUMBER : {batch} | TRAIN LOSS : {loss}\")\n",
    "    train_loss/=len(train_dataloader)\n",
    "    \n",
    "    #testing mode\n",
    "    test_loss=0 \n",
    "    test_acc =0\n",
    "    model_0.eval()\n",
    "    with torch.no_grad():\n",
    "        for X_test , y_test in test_dataloader:\n",
    "            test_pred = model_0(X_test)\n",
    "            test_loss+=loss_fn(test_pred , y_test)\n",
    "            test_acc += accuracy_fn(y_true=y_test, y_pred=test_pred.argmax(dim=1))\n",
    "            \n",
    "        test_loss/=len(test_dataloader)\n",
    "        test_acc/=len(test_dataloader)\n",
    "    print(f\"EPOCH : {epoch} | AVG TRAIN LOSS : {train_loss} | AVG TEST LOSS : {test_loss} | TEST ACCURACY : {test_acc} \")\n",
    "end_time=timer()\n",
    "print_train_time(start=start_time , end=end_time)"
   ]
  },
  {
   "cell_type": "code",
   "execution_count": null,
   "metadata": {},
   "outputs": [],
   "source": []
  },
  {
   "cell_type": "code",
   "execution_count": null,
   "metadata": {},
   "outputs": [],
   "source": []
  }
 ],
 "metadata": {
  "kernelspec": {
   "display_name": "Python 3",
   "language": "python",
   "name": "python3"
  },
  "language_info": {
   "codemirror_mode": {
    "name": "ipython",
    "version": 3
   },
   "file_extension": ".py",
   "mimetype": "text/x-python",
   "name": "python",
   "nbconvert_exporter": "python",
   "pygments_lexer": "ipython3",
   "version": "3.11.6"
  }
 },
 "nbformat": 4,
 "nbformat_minor": 2
}
